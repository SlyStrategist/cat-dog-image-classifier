{
 "cells": [
  {
   "cell_type": "code",
   "execution_count": 2,
   "metadata": {},
   "outputs": [
    {
     "name": "stdout",
     "output_type": "stream",
     "text": [
      "['/device:CPU:0', '/device:GPU:0']\n"
     ]
    }
   ],
   "source": [
    "import tensorflow as tf\n",
    "from tensorflow.keras.models import Sequential\n",
    "from tensorflow.keras.layers import Dense, Dropout, Activation, Flatten, Conv2D, MaxPooling2D\n",
    "from tensorflow.keras.callbacks import TensorBoard\n",
    "import pickle\n",
    "\n",
    "#from tensorflow.python.client import device_lib\n",
    "#print(device_lib.list_local_devices())\n",
    "\n",
    "from tensorflow.python.client import device_lib\n",
    "\n",
    "def get_available_devices():\n",
    "    local_device_protos = device_lib.list_local_devices()\n",
    "    return [x.name for x in local_device_protos]\n",
    "\n",
    "print(get_available_devices())"
   ]
  },
  {
   "cell_type": "code",
   "execution_count": 3,
   "metadata": {},
   "outputs": [
    {
     "name": "stdout",
     "output_type": "stream",
     "text": [
      "Train on 19956 samples, validate on 4990 samples\n",
      "Epoch 1/25\n",
      "19956/19956 [==============================] - 37s 2ms/step - loss: 0.6151 - acc: 0.6443 - val_loss: 0.5119 - val_acc: 0.7557\n",
      "Epoch 2/25\n",
      "19956/19956 [==============================] - 32s 2ms/step - loss: 0.4892 - acc: 0.7648 - val_loss: 0.4645 - val_acc: 0.7804\n",
      "Epoch 3/25\n",
      "19956/19956 [==============================] - 32s 2ms/step - loss: 0.4276 - acc: 0.8019 - val_loss: 0.4093 - val_acc: 0.8096\n",
      "Epoch 4/25\n",
      "19956/19956 [==============================] - 32s 2ms/step - loss: 0.3808 - acc: 0.8306 - val_loss: 0.4196 - val_acc: 0.8018\n",
      "Epoch 5/25\n",
      "19956/19956 [==============================] - 32s 2ms/step - loss: 0.3429 - acc: 0.8504 - val_loss: 0.3591 - val_acc: 0.8369\n",
      "Epoch 6/25\n",
      "19956/19956 [==============================] - 32s 2ms/step - loss: 0.3095 - acc: 0.8639 - val_loss: 0.4336 - val_acc: 0.8251\n",
      "Epoch 7/25\n",
      "19956/19956 [==============================] - 32s 2ms/step - loss: 0.2792 - acc: 0.8811 - val_loss: 0.3571 - val_acc: 0.8443\n",
      "Epoch 8/25\n",
      "19956/19956 [==============================] - 34s 2ms/step - loss: 0.2529 - acc: 0.8937 - val_loss: 0.3498 - val_acc: 0.8475\n",
      "Epoch 9/25\n",
      "19956/19956 [==============================] - 34s 2ms/step - loss: 0.2194 - acc: 0.9093 - val_loss: 0.3447 - val_acc: 0.8545\n",
      "Epoch 10/25\n",
      "19956/19956 [==============================] - 33s 2ms/step - loss: 0.1877 - acc: 0.9236 - val_loss: 0.4823 - val_acc: 0.8032\n",
      "Epoch 11/25\n",
      "19956/19956 [==============================] - 34s 2ms/step - loss: 0.1639 - acc: 0.9347 - val_loss: 0.3889 - val_acc: 0.8481\n",
      "Epoch 12/25\n",
      "19956/19956 [==============================] - 31s 2ms/step - loss: 0.1463 - acc: 0.9416 - val_loss: 0.3831 - val_acc: 0.8537\n",
      "Epoch 13/25\n",
      "19956/19956 [==============================] - 34s 2ms/step - loss: 0.1186 - acc: 0.9551 - val_loss: 0.4350 - val_acc: 0.8457\n",
      "Epoch 14/25\n",
      "19956/19956 [==============================] - 32s 2ms/step - loss: 0.1047 - acc: 0.9603 - val_loss: 0.4858 - val_acc: 0.8333\n",
      "Epoch 15/25\n",
      "19956/19956 [==============================] - 32s 2ms/step - loss: 0.0881 - acc: 0.9662 - val_loss: 0.5026 - val_acc: 0.8417\n",
      "Epoch 16/25\n",
      "19956/19956 [==============================] - 32s 2ms/step - loss: 0.0737 - acc: 0.9741 - val_loss: 0.5109 - val_acc: 0.8443\n",
      "Epoch 17/25\n",
      "19956/19956 [==============================] - 33s 2ms/step - loss: 0.0553 - acc: 0.9809 - val_loss: 0.5938 - val_acc: 0.8451\n",
      "Epoch 18/25\n",
      "19956/19956 [==============================] - 31s 2ms/step - loss: 0.0454 - acc: 0.9854 - val_loss: 0.7339 - val_acc: 0.8287\n",
      "Epoch 19/25\n",
      "19956/19956 [==============================] - 33s 2ms/step - loss: 0.0501 - acc: 0.9817 - val_loss: 0.6944 - val_acc: 0.8369\n",
      "Epoch 20/25\n",
      "19956/19956 [==============================] - 31s 2ms/step - loss: 0.0484 - acc: 0.9824 - val_loss: 0.6480 - val_acc: 0.8407\n",
      "Epoch 21/25\n",
      "19956/19956 [==============================] - 33s 2ms/step - loss: 0.0344 - acc: 0.9887 - val_loss: 0.7195 - val_acc: 0.8431\n",
      "Epoch 22/25\n",
      "19956/19956 [==============================] - 31s 2ms/step - loss: 0.0321 - acc: 0.9888 - val_loss: 0.7501 - val_acc: 0.8333\n",
      "Epoch 23/25\n",
      "19956/19956 [==============================] - 32s 2ms/step - loss: 0.0410 - acc: 0.9854 - val_loss: 0.7698 - val_acc: 0.8467\n",
      "Epoch 24/25\n",
      "19956/19956 [==============================] - 33s 2ms/step - loss: 0.0289 - acc: 0.9898 - val_loss: 0.7814 - val_acc: 0.8417\n",
      "Epoch 25/25\n",
      "19956/19956 [==============================] - 31s 2ms/step - loss: 0.0308 - acc: 0.9895 - val_loss: 0.8370 - val_acc: 0.8347\n"
     ]
    },
    {
     "data": {
      "text/plain": [
       "<tensorflow.python.keras.callbacks.History at 0x1e9bb9c19e8>"
      ]
     },
     "execution_count": 3,
     "metadata": {},
     "output_type": "execute_result"
    }
   ],
   "source": [
    "import time\n",
    "NAME = \"Cats-vs-dogs-cnn-80x2\".format(int(time.time()))\n",
    "tensorboard = TensorBoard(log_dir= 'logs/{}'.format(NAME))\n",
    "\n",
    "X = pickle.load(open(\"X.pickle\", \"rb\"))\n",
    "Y = pickle.load(open(\"Y.pickle\", \"rb\"))\n",
    "\n",
    "X = X/255.0\n",
    "\n",
    "model = Sequential()\n",
    "model.add(Conv2D(80, (3,3), input_shape = X.shape[1:]))\n",
    "model.add(Activation(\"relu\"))\n",
    "model.add(MaxPooling2D(pool_size=(2,2)))\n",
    "\n",
    "model.add(Conv2D(80, (3,3)))\n",
    "model.add(Activation(\"relu\"))\n",
    "model.add(MaxPooling2D(pool_size=(2,2)))\n",
    "\n",
    "model.add(Conv2D(80, (3,3)))\n",
    "model.add(Activation(\"relu\"))\n",
    "model.add(MaxPooling2D(pool_size=(2,2)))\n",
    "\n",
    "model.add(Flatten())\n",
    "model.add(Dense(1))\n",
    "model.add(Activation(\"sigmoid\"))\n",
    "\n",
    "model.compile(loss=\"binary_crossentropy\",\n",
    "             optimizer=\"adam\",\n",
    "             metrics=[\"accuracy\"])\n",
    "\n",
    "model.fit(X,Y, batch_size=32, epochs=25, validation_split=0.2, callbacks = [tensorboard])"
   ]
  },
  {
   "cell_type": "code",
   "execution_count": 4,
   "metadata": {},
   "outputs": [],
   "source": [
    "model.save('catdogCNN80x3')"
   ]
  },

  {
   "cell_type": "code",
   "execution_count": null,
   "metadata": {},
   "outputs": [],
   "source": []
  }
 ],
 "metadata": {
  "kernelspec": {
   "display_name": "Python 3",
   "language": "python",
   "name": "python3"
  },
  "language_info": {
   "codemirror_mode": {
    "name": "ipython",
    "version": 3
   },
   "file_extension": ".py",
   "mimetype": "text/x-python",
   "name": "python",
   "nbconvert_exporter": "python",
   "pygments_lexer": "ipython3",
   "version": "3.6.7"
  }
 },
 "nbformat": 4,
 "nbformat_minor": 2
}
